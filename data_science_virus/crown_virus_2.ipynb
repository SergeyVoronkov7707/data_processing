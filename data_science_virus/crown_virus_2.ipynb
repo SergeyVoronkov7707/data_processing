{
 "cells": [
  {
   "cell_type": "markdown",
   "id": "optical-hometown",
   "metadata": {},
   "source": [
    "Sno - Серийный номер  \n",
    "ObservationDate - Дата наблюдения в ММ/ДД/ГГГГ  \n",
    "Province/State - Провинция или штат наблюдения (может быть пустым, если отсутствует)  \n",
    "Country/Region - Страна наблюдения  \n",
    "Last Update - время в формате UTC, когда строка обновляется для данной провинции или страны. (Не стандартизирован и поэтому,   пожалуйста, очистите его перед использованием)  \n",
    "Confirmed - Совокупное количество подтвержденных случаев до этой даты  \n",
    "Deaths - Совокупное число смертей до этой даты  \n",
    "Recovered - Совокупное количество восстановленных случаев до этой даты  "
   ]
  },
  {
   "cell_type": "code",
   "execution_count": 85,
   "id": "alike-smooth",
   "metadata": {},
   "outputs": [],
   "source": [
    "import pandas as pd\n",
    "import numpy as np\n",
    "from datetime import datetime\n",
    "\n",
    "import matplotlib.pyplot as plt\n",
    "\n",
    "import missingno as miss\n",
    "\n",
    "import seaborn as sns\n",
    "\n",
    "%matplotlib inline"
   ]
  },
  {
   "cell_type": "code",
   "execution_count": 86,
   "id": "handled-yemen",
   "metadata": {},
   "outputs": [],
   "source": [
    "from sklearn.linear_model import LogisticRegression\n",
    "from sklearn.ensemble import GradientBoostingClassifier\n",
    "from catboost import CatBoostClassifier\n",
    "from lightgbm import LGBMClassifier\n",
    "from sklearn.ensemble import RandomForestClassifier, RandomForestRegressor\n",
    "from sklearn.neighbors import KNeighborsClassifier\n",
    "from sklearn.model_selection import cross_validate\n",
    "\n",
    "from sklearn.preprocessing import StandardScaler, PolynomialFeatures\n",
    "from sklearn.model_selection import train_test_split, GridSearchCV, RandomizedSearchCV\n",
    "from sklearn.pipeline import Pipeline\n",
    "from sklearn.metrics import classification_report, f1_score\n",
    "from sklearn.manifold import TSNE\n",
    "\n",
    "from imblearn.over_sampling import SMOTE"
   ]
  },
  {
   "cell_type": "code",
   "execution_count": 87,
   "id": "moving-kernel",
   "metadata": {},
   "outputs": [],
   "source": [
    "df = pd.read_csv('data/covid_19_data.csv')"
   ]
  },
  {
   "cell_type": "code",
   "execution_count": 88,
   "id": "structural-formation",
   "metadata": {},
   "outputs": [],
   "source": [
    "df_full = pd.read_csv('full_table.csv',index_col=0)"
   ]
  },
  {
   "cell_type": "code",
   "execution_count": 89,
   "id": "later-broadway",
   "metadata": {},
   "outputs": [],
   "source": [
    "df['ObservationDate'] = pd.to_datetime(df.ObservationDate)\n",
    "df_full['date'] = pd.to_datetime(df_full.date)"
   ]
  },
  {
   "cell_type": "code",
   "execution_count": 90,
   "id": "fifth-script",
   "metadata": {},
   "outputs": [],
   "source": [
    "df = df.sort_values(by = 'ObservationDate')"
   ]
  },
  {
   "cell_type": "code",
   "execution_count": 91,
   "id": "satisfactory-acceptance",
   "metadata": {},
   "outputs": [
    {
     "data": {
      "text/html": [
       "<div>\n",
       "<style scoped>\n",
       "    .dataframe tbody tr th:only-of-type {\n",
       "        vertical-align: middle;\n",
       "    }\n",
       "\n",
       "    .dataframe tbody tr th {\n",
       "        vertical-align: top;\n",
       "    }\n",
       "\n",
       "    .dataframe thead th {\n",
       "        text-align: right;\n",
       "    }\n",
       "</style>\n",
       "<table border=\"1\" class=\"dataframe\">\n",
       "  <thead>\n",
       "    <tr style=\"text-align: right;\">\n",
       "      <th></th>\n",
       "      <th>SNo</th>\n",
       "      <th>ObservationDate</th>\n",
       "      <th>Province/State</th>\n",
       "      <th>Country/Region</th>\n",
       "      <th>Last Update</th>\n",
       "      <th>Confirmed</th>\n",
       "      <th>Deaths</th>\n",
       "      <th>Recovered</th>\n",
       "    </tr>\n",
       "  </thead>\n",
       "  <tbody>\n",
       "    <tr>\n",
       "      <th>0</th>\n",
       "      <td>1</td>\n",
       "      <td>2020-01-22</td>\n",
       "      <td>Anhui</td>\n",
       "      <td>Mainland China</td>\n",
       "      <td>1/22/2020 17:00</td>\n",
       "      <td>1.0</td>\n",
       "      <td>0.0</td>\n",
       "      <td>0.0</td>\n",
       "    </tr>\n",
       "    <tr>\n",
       "      <th>22</th>\n",
       "      <td>23</td>\n",
       "      <td>2020-01-22</td>\n",
       "      <td>Qinghai</td>\n",
       "      <td>Mainland China</td>\n",
       "      <td>1/22/2020 17:00</td>\n",
       "      <td>0.0</td>\n",
       "      <td>0.0</td>\n",
       "      <td>0.0</td>\n",
       "    </tr>\n",
       "    <tr>\n",
       "      <th>23</th>\n",
       "      <td>24</td>\n",
       "      <td>2020-01-22</td>\n",
       "      <td>Shaanxi</td>\n",
       "      <td>Mainland China</td>\n",
       "      <td>1/22/2020 17:00</td>\n",
       "      <td>0.0</td>\n",
       "      <td>0.0</td>\n",
       "      <td>0.0</td>\n",
       "    </tr>\n",
       "    <tr>\n",
       "      <th>24</th>\n",
       "      <td>25</td>\n",
       "      <td>2020-01-22</td>\n",
       "      <td>Shandong</td>\n",
       "      <td>Mainland China</td>\n",
       "      <td>1/22/2020 17:00</td>\n",
       "      <td>2.0</td>\n",
       "      <td>0.0</td>\n",
       "      <td>0.0</td>\n",
       "    </tr>\n",
       "    <tr>\n",
       "      <th>25</th>\n",
       "      <td>26</td>\n",
       "      <td>2020-01-22</td>\n",
       "      <td>Shanghai</td>\n",
       "      <td>Mainland China</td>\n",
       "      <td>1/22/2020 17:00</td>\n",
       "      <td>9.0</td>\n",
       "      <td>0.0</td>\n",
       "      <td>0.0</td>\n",
       "    </tr>\n",
       "  </tbody>\n",
       "</table>\n",
       "</div>"
      ],
      "text/plain": [
       "    SNo ObservationDate Province/State  Country/Region      Last Update  \\\n",
       "0     1      2020-01-22          Anhui  Mainland China  1/22/2020 17:00   \n",
       "22   23      2020-01-22        Qinghai  Mainland China  1/22/2020 17:00   \n",
       "23   24      2020-01-22        Shaanxi  Mainland China  1/22/2020 17:00   \n",
       "24   25      2020-01-22       Shandong  Mainland China  1/22/2020 17:00   \n",
       "25   26      2020-01-22       Shanghai  Mainland China  1/22/2020 17:00   \n",
       "\n",
       "    Confirmed  Deaths  Recovered  \n",
       "0         1.0     0.0        0.0  \n",
       "22        0.0     0.0        0.0  \n",
       "23        0.0     0.0        0.0  \n",
       "24        2.0     0.0        0.0  \n",
       "25        9.0     0.0        0.0  "
      ]
     },
     "execution_count": 91,
     "metadata": {},
     "output_type": "execute_result"
    }
   ],
   "source": [
    "df.head()"
   ]
  },
  {
   "cell_type": "code",
   "execution_count": 92,
   "id": "documentary-collective",
   "metadata": {},
   "outputs": [],
   "source": [
    "df['date'] = df['ObservationDate']"
   ]
  },
  {
   "cell_type": "code",
   "execution_count": 93,
   "id": "hydraulic-designer",
   "metadata": {},
   "outputs": [],
   "source": [
    "df.drop('ObservationDate', 1, inplace=True)"
   ]
  },
  {
   "cell_type": "code",
   "execution_count": 94,
   "id": "attractive-rapid",
   "metadata": {},
   "outputs": [
    {
     "data": {
      "text/plain": [
       "Index(['SNo', 'Province/State', 'Country/Region', 'Last Update', 'Confirmed',\n",
       "       'Deaths', 'Recovered', 'date'],\n",
       "      dtype='object')"
      ]
     },
     "execution_count": 94,
     "metadata": {},
     "output_type": "execute_result"
    }
   ],
   "source": [
    "df.columns"
   ]
  },
  {
   "cell_type": "code",
   "execution_count": 95,
   "id": "dying-oakland",
   "metadata": {},
   "outputs": [],
   "source": [
    "df = df[['SNo','date' , 'Province/State', 'Country/Region', 'Last Update', 'Confirmed',\n",
    "       'Deaths', 'Recovered' ]]"
   ]
  },
  {
   "cell_type": "code",
   "execution_count": 96,
   "id": "central-modification",
   "metadata": {},
   "outputs": [],
   "source": [
    "df.columns = [i.replace('/', '').replace(' ', '').lower() for i in df.columns]"
   ]
  },
  {
   "cell_type": "code",
   "execution_count": 97,
   "id": "short-evans",
   "metadata": {},
   "outputs": [
    {
     "data": {
      "text/html": [
       "<div>\n",
       "<style scoped>\n",
       "    .dataframe tbody tr th:only-of-type {\n",
       "        vertical-align: middle;\n",
       "    }\n",
       "\n",
       "    .dataframe tbody tr th {\n",
       "        vertical-align: top;\n",
       "    }\n",
       "\n",
       "    .dataframe thead th {\n",
       "        text-align: right;\n",
       "    }\n",
       "</style>\n",
       "<table border=\"1\" class=\"dataframe\">\n",
       "  <thead>\n",
       "    <tr style=\"text-align: right;\">\n",
       "      <th></th>\n",
       "      <th>sno</th>\n",
       "      <th>date</th>\n",
       "      <th>provincestate</th>\n",
       "      <th>countryregion</th>\n",
       "      <th>lastupdate</th>\n",
       "      <th>confirmed</th>\n",
       "      <th>deaths</th>\n",
       "      <th>recovered</th>\n",
       "    </tr>\n",
       "  </thead>\n",
       "  <tbody>\n",
       "    <tr>\n",
       "      <th>0</th>\n",
       "      <td>1</td>\n",
       "      <td>2020-01-22</td>\n",
       "      <td>Anhui</td>\n",
       "      <td>Mainland China</td>\n",
       "      <td>1/22/2020 17:00</td>\n",
       "      <td>1.0</td>\n",
       "      <td>0.0</td>\n",
       "      <td>0.0</td>\n",
       "    </tr>\n",
       "    <tr>\n",
       "      <th>22</th>\n",
       "      <td>23</td>\n",
       "      <td>2020-01-22</td>\n",
       "      <td>Qinghai</td>\n",
       "      <td>Mainland China</td>\n",
       "      <td>1/22/2020 17:00</td>\n",
       "      <td>0.0</td>\n",
       "      <td>0.0</td>\n",
       "      <td>0.0</td>\n",
       "    </tr>\n",
       "    <tr>\n",
       "      <th>23</th>\n",
       "      <td>24</td>\n",
       "      <td>2020-01-22</td>\n",
       "      <td>Shaanxi</td>\n",
       "      <td>Mainland China</td>\n",
       "      <td>1/22/2020 17:00</td>\n",
       "      <td>0.0</td>\n",
       "      <td>0.0</td>\n",
       "      <td>0.0</td>\n",
       "    </tr>\n",
       "    <tr>\n",
       "      <th>24</th>\n",
       "      <td>25</td>\n",
       "      <td>2020-01-22</td>\n",
       "      <td>Shandong</td>\n",
       "      <td>Mainland China</td>\n",
       "      <td>1/22/2020 17:00</td>\n",
       "      <td>2.0</td>\n",
       "      <td>0.0</td>\n",
       "      <td>0.0</td>\n",
       "    </tr>\n",
       "    <tr>\n",
       "      <th>25</th>\n",
       "      <td>26</td>\n",
       "      <td>2020-01-22</td>\n",
       "      <td>Shanghai</td>\n",
       "      <td>Mainland China</td>\n",
       "      <td>1/22/2020 17:00</td>\n",
       "      <td>9.0</td>\n",
       "      <td>0.0</td>\n",
       "      <td>0.0</td>\n",
       "    </tr>\n",
       "  </tbody>\n",
       "</table>\n",
       "</div>"
      ],
      "text/plain": [
       "    sno       date provincestate   countryregion       lastupdate  confirmed  \\\n",
       "0     1 2020-01-22         Anhui  Mainland China  1/22/2020 17:00        1.0   \n",
       "22   23 2020-01-22       Qinghai  Mainland China  1/22/2020 17:00        0.0   \n",
       "23   24 2020-01-22       Shaanxi  Mainland China  1/22/2020 17:00        0.0   \n",
       "24   25 2020-01-22      Shandong  Mainland China  1/22/2020 17:00        2.0   \n",
       "25   26 2020-01-22      Shanghai  Mainland China  1/22/2020 17:00        9.0   \n",
       "\n",
       "    deaths  recovered  \n",
       "0      0.0        0.0  \n",
       "22     0.0        0.0  \n",
       "23     0.0        0.0  \n",
       "24     0.0        0.0  \n",
       "25     0.0        0.0  "
      ]
     },
     "execution_count": 97,
     "metadata": {},
     "output_type": "execute_result"
    }
   ],
   "source": [
    "df.head()"
   ]
  },
  {
   "cell_type": "code",
   "execution_count": 98,
   "id": "homeless-patch",
   "metadata": {},
   "outputs": [
    {
     "data": {
      "text/html": [
       "<div>\n",
       "<style scoped>\n",
       "    .dataframe tbody tr th:only-of-type {\n",
       "        vertical-align: middle;\n",
       "    }\n",
       "\n",
       "    .dataframe tbody tr th {\n",
       "        vertical-align: top;\n",
       "    }\n",
       "\n",
       "    .dataframe thead th {\n",
       "        text-align: right;\n",
       "    }\n",
       "</style>\n",
       "<table border=\"1\" class=\"dataframe\">\n",
       "  <thead>\n",
       "    <tr style=\"text-align: right;\">\n",
       "      <th></th>\n",
       "      <th>lat</th>\n",
       "      <th>long</th>\n",
       "      <th>date</th>\n",
       "      <th>provincestate</th>\n",
       "      <th>countryregion</th>\n",
       "      <th>confirmed</th>\n",
       "      <th>deaths</th>\n",
       "      <th>recovered</th>\n",
       "      <th>active</th>\n",
       "    </tr>\n",
       "  </thead>\n",
       "  <tbody>\n",
       "    <tr>\n",
       "      <th>0</th>\n",
       "      <td>33.939110</td>\n",
       "      <td>67.709953</td>\n",
       "      <td>2020-01-22</td>\n",
       "      <td>NaN</td>\n",
       "      <td>Afghanistan</td>\n",
       "      <td>0</td>\n",
       "      <td>0</td>\n",
       "      <td>0.0</td>\n",
       "      <td>0.0</td>\n",
       "    </tr>\n",
       "    <tr>\n",
       "      <th>176</th>\n",
       "      <td>4.210484</td>\n",
       "      <td>101.975766</td>\n",
       "      <td>2020-01-22</td>\n",
       "      <td>NaN</td>\n",
       "      <td>Malaysia</td>\n",
       "      <td>0</td>\n",
       "      <td>0</td>\n",
       "      <td>0.0</td>\n",
       "      <td>0.0</td>\n",
       "    </tr>\n",
       "    <tr>\n",
       "      <th>177</th>\n",
       "      <td>3.202800</td>\n",
       "      <td>73.220700</td>\n",
       "      <td>2020-01-22</td>\n",
       "      <td>NaN</td>\n",
       "      <td>Maldives</td>\n",
       "      <td>0</td>\n",
       "      <td>0</td>\n",
       "      <td>0.0</td>\n",
       "      <td>0.0</td>\n",
       "    </tr>\n",
       "    <tr>\n",
       "      <th>178</th>\n",
       "      <td>17.570692</td>\n",
       "      <td>-3.996166</td>\n",
       "      <td>2020-01-22</td>\n",
       "      <td>NaN</td>\n",
       "      <td>Mali</td>\n",
       "      <td>0</td>\n",
       "      <td>0</td>\n",
       "      <td>0.0</td>\n",
       "      <td>0.0</td>\n",
       "    </tr>\n",
       "    <tr>\n",
       "      <th>179</th>\n",
       "      <td>35.937500</td>\n",
       "      <td>14.375400</td>\n",
       "      <td>2020-01-22</td>\n",
       "      <td>NaN</td>\n",
       "      <td>Malta</td>\n",
       "      <td>0</td>\n",
       "      <td>0</td>\n",
       "      <td>0.0</td>\n",
       "      <td>0.0</td>\n",
       "    </tr>\n",
       "  </tbody>\n",
       "</table>\n",
       "</div>"
      ],
      "text/plain": [
       "           lat        long       date provincestate countryregion  confirmed  \\\n",
       "0    33.939110   67.709953 2020-01-22           NaN   Afghanistan          0   \n",
       "176   4.210484  101.975766 2020-01-22           NaN      Malaysia          0   \n",
       "177   3.202800   73.220700 2020-01-22           NaN      Maldives          0   \n",
       "178  17.570692   -3.996166 2020-01-22           NaN          Mali          0   \n",
       "179  35.937500   14.375400 2020-01-22           NaN         Malta          0   \n",
       "\n",
       "     deaths  recovered  active  \n",
       "0         0        0.0     0.0  \n",
       "176       0        0.0     0.0  \n",
       "177       0        0.0     0.0  \n",
       "178       0        0.0     0.0  \n",
       "179       0        0.0     0.0  "
      ]
     },
     "execution_count": 98,
     "metadata": {},
     "output_type": "execute_result"
    }
   ],
   "source": [
    "df_full.head()"
   ]
  },
  {
   "cell_type": "code",
   "execution_count": 99,
   "id": "square-ottawa",
   "metadata": {},
   "outputs": [
    {
     "name": "stdout",
     "output_type": "stream",
     "text": [
      "<class 'pandas.core.frame.DataFrame'>\n",
      "Int64Index: 306429 entries, 0 to 306428\n",
      "Data columns (total 8 columns):\n",
      " #   Column         Non-Null Count   Dtype         \n",
      "---  ------         --------------   -----         \n",
      " 0   sno            306429 non-null  int64         \n",
      " 1   date           306429 non-null  datetime64[ns]\n",
      " 2   provincestate  228329 non-null  object        \n",
      " 3   countryregion  306429 non-null  object        \n",
      " 4   lastupdate     306429 non-null  object        \n",
      " 5   confirmed      306429 non-null  float64       \n",
      " 6   deaths         306429 non-null  float64       \n",
      " 7   recovered      306429 non-null  float64       \n",
      "dtypes: datetime64[ns](1), float64(3), int64(1), object(3)\n",
      "memory usage: 21.0+ MB\n"
     ]
    }
   ],
   "source": [
    "df.info()"
   ]
  },
  {
   "cell_type": "code",
   "execution_count": 100,
   "id": "reliable-prediction",
   "metadata": {},
   "outputs": [
    {
     "name": "stdout",
     "output_type": "stream",
     "text": [
      "<class 'pandas.core.frame.DataFrame'>\n",
      "Int64Index: 135356 entries, 0 to 136343\n",
      "Data columns (total 9 columns):\n",
      " #   Column         Non-Null Count   Dtype         \n",
      "---  ------         --------------   -----         \n",
      " 0   lat            135356 non-null  float64       \n",
      " 1   long           135356 non-null  float64       \n",
      " 2   date           135356 non-null  datetime64[ns]\n",
      " 3   provincestate  41496 non-null   object        \n",
      " 4   countryregion  135356 non-null  object        \n",
      " 5   confirmed      135356 non-null  int64         \n",
      " 6   deaths         135356 non-null  int64         \n",
      " 7   recovered      135356 non-null  float64       \n",
      " 8   active         135356 non-null  float64       \n",
      "dtypes: datetime64[ns](1), float64(4), int64(2), object(2)\n",
      "memory usage: 10.3+ MB\n"
     ]
    }
   ],
   "source": [
    "df_full.info()"
   ]
  },
  {
   "cell_type": "code",
   "execution_count": 101,
   "id": "unique-increase",
   "metadata": {},
   "outputs": [],
   "source": [
    "df_all = pd.merge(left = df, right = df_full, on = ['date', 'countryregion'])"
   ]
  },
  {
   "cell_type": "code",
   "execution_count": 113,
   "id": "ordered-sociology",
   "metadata": {},
   "outputs": [
    {
     "name": "stdout",
     "output_type": "stream",
     "text": [
      "<class 'pandas.core.frame.DataFrame'>\n",
      "Int64Index: 488336 entries, 0 to 488335\n",
      "Data columns (total 11 columns):\n",
      " #   Column         Non-Null Count   Dtype         \n",
      "---  ------         --------------   -----         \n",
      " 0   sno            488336 non-null  int64         \n",
      " 1   date           488336 non-null  datetime64[ns]\n",
      " 2   countryregion  488336 non-null  object        \n",
      " 3   lastupdate     488336 non-null  object        \n",
      " 4   lat            488336 non-null  float64       \n",
      " 5   long           488336 non-null  float64       \n",
      " 6   active         488336 non-null  float64       \n",
      " 7   deaths         488336 non-null  float64       \n",
      " 8   confirmed      488336 non-null  float64       \n",
      " 9   recovered      488336 non-null  float64       \n",
      " 10  provincestate  405632 non-null  object        \n",
      "dtypes: datetime64[ns](1), float64(6), int64(1), object(3)\n",
      "memory usage: 60.8+ MB\n"
     ]
    }
   ],
   "source": [
    "df_all.info()"
   ]
  },
  {
   "cell_type": "code",
   "execution_count": 111,
   "id": "executive-benchmark",
   "metadata": {},
   "outputs": [
    {
     "data": {
      "text/plain": [
       "Index(['sno', 'date', 'countryregion', 'lastupdate', 'lat', 'long', 'active',\n",
       "       'deaths', 'confirmed', 'recovered', 'provincestate'],\n",
       "      dtype='object')"
      ]
     },
     "execution_count": 111,
     "metadata": {},
     "output_type": "execute_result"
    }
   ],
   "source": [
    "df_all.columns"
   ]
  },
  {
   "cell_type": "code",
   "execution_count": 107,
   "id": "wrong-thunder",
   "metadata": {},
   "outputs": [],
   "source": [
    "df_all['deaths'] = df_all['deaths_x']\n",
    "df_all['confirmed'] = df_all['confirmed_x']\n",
    "df_all['recovered'] = df_all['recovered_x']\n",
    "df_all['provincestate'] = df_all['provincestate_x']"
   ]
  },
  {
   "cell_type": "code",
   "execution_count": 110,
   "id": "mental-gross",
   "metadata": {},
   "outputs": [],
   "source": [
    "df_all.drop(['provincestate_x', 'confirmed_x', 'deaths_x', 'recovered_x', 'provincestate_y', 'confirmed_y', 'deaths_y', 'recovered_y'],1, inplace=True)"
   ]
  },
  {
   "cell_type": "code",
   "execution_count": 112,
   "id": "reverse-rubber",
   "metadata": {},
   "outputs": [
    {
     "data": {
      "text/plain": [
       "<AxesSubplot:>"
      ]
     },
     "execution_count": 112,
     "metadata": {},
     "output_type": "execute_result"
    },
    {
     "data": {
      "image/png": "[encoded data removed]",
      "text/plain": [
       "<Figure size 1800x720 with 2 Axes>"
      ]
     },
     "metadata": {
      "needs_background": "light"
     },
     "output_type": "display_data"
    }
   ],
   "source": [
    "miss.matrix(df_all)"
   ]
  },
  {
   "cell_type": "code",
   "execution_count": 114,
   "id": "atomic-gibson",
   "metadata": {},
   "outputs": [],
   "source": [
    "df_all.drop('provincestate',1,inplace=True)"
   ]
  },
  {
   "cell_type": "code",
   "execution_count": 116,
   "id": "delayed-latex",
   "metadata": {},
   "outputs": [],
   "source": [
    "df_all.drop('lastupdate',1,inplace=True)"
   ]
  },
  {
   "cell_type": "code",
   "execution_count": 117,
   "id": "approximate-software",
   "metadata": {},
   "outputs": [],
   "source": [
    "df_all.to_csv('df_all.csv')"
   ]
  },
  {
   "cell_type": "code",
   "execution_count": null,
   "id": "fossil-patch",
   "metadata": {},
   "outputs": [],
   "source": []
  }
 ],
 "metadata": {
  "kernelspec": {
   "display_name": "Python 3 (ipykernel)",
   "language": "python",
   "name": "python3"
  },
  "language_info": {
   "codemirror_mode": {
    "name": "ipython",
    "version": 3
   },
   "file_extension": ".py",
   "mimetype": "text/x-python",
   "name": "python",
   "nbconvert_exporter": "python",
   "pygments_lexer": "ipython3",
   "version": "3.7.9"
  }
 },
 "nbformat": 4,
 "nbformat_minor": 5
}
